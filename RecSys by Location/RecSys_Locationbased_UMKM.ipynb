{
 "cells": [
  {
   "cell_type": "code",
   "execution_count": 1,
   "metadata": {},
   "outputs": [],
   "source": [
    "import pandas as pd\n",
    "import numpy as np"
   ]
  },
  {
   "cell_type": "code",
   "execution_count": 2,
   "metadata": {},
   "outputs": [
    {
     "data": {
      "text/html": [
       "<div>\n",
       "<style scoped>\n",
       "    .dataframe tbody tr th:only-of-type {\n",
       "        vertical-align: middle;\n",
       "    }\n",
       "\n",
       "    .dataframe tbody tr th {\n",
       "        vertical-align: top;\n",
       "    }\n",
       "\n",
       "    .dataframe thead th {\n",
       "        text-align: right;\n",
       "    }\n",
       "</style>\n",
       "<table border=\"1\" class=\"dataframe\">\n",
       "  <thead>\n",
       "    <tr style=\"text-align: right;\">\n",
       "      <th></th>\n",
       "      <th>Nama_pemilik</th>\n",
       "      <th>nama_usaha</th>\n",
       "      <th>Deskripsi_usaha</th>\n",
       "      <th>category</th>\n",
       "      <th>address</th>\n",
       "      <th>no_hp</th>\n",
       "      <th>latitude</th>\n",
       "      <th>longitude</th>\n",
       "    </tr>\n",
       "  </thead>\n",
       "  <tbody>\n",
       "    <tr>\n",
       "      <th>0</th>\n",
       "      <td>Fajar Purnomo</td>\n",
       "      <td>Budidaya Lele</td>\n",
       "      <td>Usaha pembesaran ikan lele</td>\n",
       "      <td>Peternakan</td>\n",
       "      <td>Kembangarum Balong Donokerto Turi Sleman, Kel....</td>\n",
       "      <td>085228427170</td>\n",
       "      <td>-7.659354</td>\n",
       "      <td>110.375565</td>\n",
       "    </tr>\n",
       "    <tr>\n",
       "      <th>1</th>\n",
       "      <td>Aditya Nugraha</td>\n",
       "      <td>Kedai milano</td>\n",
       "      <td>Usaha yang menjual berbagai jenis makanan harian</td>\n",
       "      <td>Kuliner</td>\n",
       "      <td>Jl. Anoa Satu, Kel. Tatura Utara, Kec. Palu Se...</td>\n",
       "      <td>082136971788</td>\n",
       "      <td>-0.911650</td>\n",
       "      <td>119.884413</td>\n",
       "    </tr>\n",
       "    <tr>\n",
       "      <th>2</th>\n",
       "      <td>Diki Akbar</td>\n",
       "      <td>Soufenir dan aksesoris</td>\n",
       "      <td>Usaha di bidang merchandise soufenir dan akses...</td>\n",
       "      <td>Seni</td>\n",
       "      <td>Jl Cihamplas, Kel. Ciumbuleuit, Kec. Cidadap, ...</td>\n",
       "      <td>085871611877</td>\n",
       "      <td>-6.858630</td>\n",
       "      <td>107.612654</td>\n",
       "    </tr>\n",
       "    <tr>\n",
       "      <th>3</th>\n",
       "      <td>Dirman</td>\n",
       "      <td>PENJUAL SARUNG &amp; PETANI</td>\n",
       "      <td>Bertani dan bejualan sarung keliling</td>\n",
       "      <td>Pertanian</td>\n",
       "      <td>Galesong, Kel. Boddia, Kec. Galesong, Kab. Tak...</td>\n",
       "      <td>085320078141</td>\n",
       "      <td>-5.327856</td>\n",
       "      <td>119.362781</td>\n",
       "    </tr>\n",
       "    <tr>\n",
       "      <th>4</th>\n",
       "      <td>Hamzah Dg Lawa</td>\n",
       "      <td>Peternakan Karya Nur</td>\n",
       "      <td>Menjual telur dan bibit ayam dan itik.</td>\n",
       "      <td>Peternakan</td>\n",
       "      <td>Jl.muhayyang Desa Patani, Kel. Patani, Kec. Ma...</td>\n",
       "      <td>082193220315</td>\n",
       "      <td>-5.450247</td>\n",
       "      <td>119.415030</td>\n",
       "    </tr>\n",
       "  </tbody>\n",
       "</table>\n",
       "</div>"
      ],
      "text/plain": [
       "     Nama_pemilik               nama_usaha   \n",
       "0   Fajar Purnomo            Budidaya Lele  \\\n",
       "1  Aditya Nugraha             Kedai milano   \n",
       "2      Diki Akbar   Soufenir dan aksesoris   \n",
       "3          Dirman  PENJUAL SARUNG & PETANI   \n",
       "4  Hamzah Dg Lawa     Peternakan Karya Nur   \n",
       "\n",
       "                                     Deskripsi_usaha    category   \n",
       "0                         Usaha pembesaran ikan lele  Peternakan  \\\n",
       "1   Usaha yang menjual berbagai jenis makanan harian     Kuliner   \n",
       "2  Usaha di bidang merchandise soufenir dan akses...        Seni   \n",
       "3               Bertani dan bejualan sarung keliling   Pertanian   \n",
       "4             Menjual telur dan bibit ayam dan itik.  Peternakan   \n",
       "\n",
       "                                             address         no_hp  latitude   \n",
       "0  Kembangarum Balong Donokerto Turi Sleman, Kel....  085228427170 -7.659354  \\\n",
       "1  Jl. Anoa Satu, Kel. Tatura Utara, Kec. Palu Se...  082136971788 -0.911650   \n",
       "2  Jl Cihamplas, Kel. Ciumbuleuit, Kec. Cidadap, ...  085871611877 -6.858630   \n",
       "3  Galesong, Kel. Boddia, Kec. Galesong, Kab. Tak...  085320078141 -5.327856   \n",
       "4  Jl.muhayyang Desa Patani, Kel. Patani, Kec. Ma...  082193220315 -5.450247   \n",
       "\n",
       "    longitude  \n",
       "0  110.375565  \n",
       "1  119.884413  \n",
       "2  107.612654  \n",
       "3  119.362781  \n",
       "4  119.415030  "
      ]
     },
     "execution_count": 2,
     "metadata": {},
     "output_type": "execute_result"
    }
   ],
   "source": [
    "df = pd.read_csv('D:/Capstone Project/Dataset/umkm_cleaned_v2.csv')\n",
    "df.head()"
   ]
  },
  {
   "cell_type": "code",
   "execution_count": 3,
   "metadata": {},
   "outputs": [],
   "source": [
    "def recommend_umkm(df, latitude, longitude):\n",
    "  user_location = np.array([latitude, longitude])\n",
    "\n",
    "  df['distance'] = np.linalg.norm(df[['latitude', 'longitude']].values - user_location, axis=1)\n",
    "  df = df.sort_values(by='distance')\n",
    "\n",
    "  nearby_umkm = df['nama_usaha'].head(20)\n",
    "  return nearby_umkm"
   ]
  },
  {
   "cell_type": "code",
   "execution_count": 4,
   "metadata": {},
   "outputs": [
    {
     "name": "stdout",
     "output_type": "stream",
     "text": [
      "UMKM di Dekat Anda:\n"
     ]
    },
    {
     "data": {
      "text/plain": [
       "1                    Kedai milano\n",
       "605                       Pribadi\n",
       "471          Pabrik tempe kartono\n",
       "96                    Manjo mamam\n",
       "995                       Anugrah\n",
       "283                      Skincare\n",
       "874               Qinanti Laundry\n",
       "381     Jual beli perhiasan perak\n",
       "358                        Fathur\n",
       "205       Keripik pisang syarifah\n",
       "635                        Femiia\n",
       "1056     Jual barang rumah tangga\n",
       "311                    Jajan kue \n",
       "389                  MONICA STORE\n",
       "117                        Konter\n",
       "544         Percetakan ISPAN FOTO\n",
       "733        Halalan Thoyyiba Drink\n",
       "770        Outlet (Blessing Cell)\n",
       "559                Peyek rajawali\n",
       "60                      Pertanian\n",
       "Name: nama_usaha, dtype: object"
      ]
     },
     "execution_count": 4,
     "metadata": {},
     "output_type": "execute_result"
    }
   ],
   "source": [
    "latitude = -0.911650\n",
    "longitude = 119.884413\n",
    "\n",
    "recommendation = recommend_umkm(df, latitude, longitude)\n",
    "print('UMKM di Dekat Anda:')\n",
    "recommendation"
   ]
  }
 ],
 "metadata": {
  "kernelspec": {
   "display_name": "Python 3",
   "language": "python",
   "name": "python3"
  },
  "language_info": {
   "codemirror_mode": {
    "name": "ipython",
    "version": 3
   },
   "file_extension": ".py",
   "mimetype": "text/x-python",
   "name": "python",
   "nbconvert_exporter": "python",
   "pygments_lexer": "ipython3",
   "version": "3.11.2"
  },
  "orig_nbformat": 4
 },
 "nbformat": 4,
 "nbformat_minor": 2
}
